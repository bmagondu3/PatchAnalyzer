{
 "cells": [
  {
   "cell_type": "markdown",
   "id": "dfb42430",
   "metadata": {},
   "source": [
    "# SanityChecker: \n",
    "\n",
    "### Patch Clamp Electrophysiology Notebook that implements low level methods from PatchAnalyzer to do patch analysis without a GUI.\n",
    "\n"
   ]
  },
  {
   "cell_type": "code",
   "execution_count": 20,
   "id": "f9421677",
   "metadata": {},
   "outputs": [],
   "source": [
    "# ------------------------------------------------------------------\n",
    "# Make the *outer* repo folder importable\n",
    "# ------------------------------------------------------------------\n",
    "import sys\n",
    "from pathlib import Path\n",
    "import pandas as pd\n",
    "\n",
    "nb_path   = Path.cwd()                 # e.g. …/ProjectRoot/PatchAnalyzer/AnalysisTesting\n",
    "repo_root = nb_path.parents[1]         # go up two levels → …/ProjectRoot/\n",
    "\n",
    "if str(repo_root) not in sys.path:\n",
    "    sys.path.insert(0, str(repo_root))\n",
    "\n",
    "# sanity check (optional)\n",
    "# print(\"repo root on sys.path:\", repo_root)\n"
   ]
  },
  {
   "cell_type": "code",
   "execution_count": 21,
   "id": "28c2eecd",
   "metadata": {},
   "outputs": [],
   "source": [
    "\n",
    "import numpy as np\n",
    "import pandas as pd\n",
    "import matplotlib.pyplot as plt\n",
    "import ipywidgets as W\n",
    "from pathlib import Path\n",
    "\n",
    "# ------------------------------------------------------------------\n",
    "# PatchAnalyzer helpers\n",
    "# ------------------------------------------------------------------\n",
    "from PatchAnalyzer.models.data_loader import load_metadata\n",
    "from PatchAnalyzer.models.ephys_loader import (\n",
    "    load_voltage_traces_for_indices,\n",
    "    load_current_traces,          # nested CC helper\n",
    ")\n",
    "from PatchAnalyzer.utils.passives import (\n",
    "    compute_passive_params,       # VC\n",
    "    compute_cc_passive_params,    # CC\n",
    ")\n",
    "from PatchAnalyzer.utils.spike_params import (\n",
    "    Sweep,\n",
    "    calc_firing_curve,\n",
    "    calc_spike_metrics,\n",
    ")\n",
    "\n",
    "plt.rcParams[\"figure.dpi\"] = 110\n"
   ]
  },
  {
   "cell_type": "code",
   "execution_count": 22,
   "id": "02e8037c",
   "metadata": {},
   "outputs": [
    {
     "data": {
      "text/plain": [
       "[WindowsPath('C:/Users/sa-forest/Documents/GitHub/PatchAnalyzer/Data/Test/2025_06_25-12_09')]"
      ]
     },
     "execution_count": 22,
     "metadata": {},
     "output_type": "execute_result"
    }
   ],
   "source": [
    "# Select multiple experiment dirs the same way the GUI’s WelcomePage does\n",
    "exp_dirs = [\n",
    "    Path(r\"C:\\Users\\sa-forest\\Documents\\GitHub\\PatchAnalyzer\\Data\\Test\\2025_06_25-12_09\"),   # TODO – add as many as you like\n",
    "    # Path(\"/path/to/another/experiment\"),\n",
    "]\n",
    "exp_dirs\n"
   ]
  },
  {
   "cell_type": "code",
   "execution_count": 23,
   "id": "2ce39914",
   "metadata": {},
   "outputs": [
    {
     "name": "stdout",
     "output_type": "stream",
     "text": [
      "2025-07-14 12:15:41,847 [INFO] Loaded 3 rows from C:\\Users\\sa-forest\\Documents\\GitHub\\PatchAnalyzer\\Data\\Test\\2025_06_25-12_09\\CellMetadata\\cell_metadata.csv\n",
      "Found 1 unique physical cells\n"
     ]
    }
   ],
   "source": [
    "# ---------------------------------------------------------------------------\n",
    "# Build “cells” exactly like the GUI (unique by stage_x/y/z)\n",
    "# ---------------------------------------------------------------------------\n",
    "cells = {}   # { (exp_dir, (x,y,z)) : {\"vc\": list[traces], \"cc\": {current:trace}} }\n",
    "\n",
    "# Load metadata for every experiment folder -------------------------------\n",
    "meta_frames = []\n",
    "for exp in exp_dirs:\n",
    "    try:\n",
    "        meta_frames.append(load_metadata([exp]))\n",
    "    except ValueError:\n",
    "        print(f\"⚠  No CellMetadata in {exp}\")\n",
    "\n",
    "if not meta_frames:\n",
    "    raise RuntimeError(\"No cell metadata loaded – check folder paths.\")\n",
    "\n",
    "meta_df = pd.concat(meta_frames, ignore_index=True)\n",
    "\n",
    "# Detect which column holds the numeric sweep‑indices\n",
    "idx_col = \"indices\" if \"indices\" in meta_df.columns else \"index\"\n",
    "if idx_col not in meta_df.columns:\n",
    "    raise RuntimeError(\"Neither 'indices' nor 'index' column found in metadata\")\n",
    "\n",
    "# Group by physical coordinates ------------------------------------------\n",
    "for coord, sub in meta_df.groupby([\"stage_x\", \"stage_y\", \"stage_z\"]):\n",
    "    exp_dir = Path(sub[\"src_dir\"].iloc[0])\n",
    "    sweep_indices = sub[idx_col].tolist()           # list of ints\n",
    "\n",
    "    # ---- Voltage‑clamp traces\n",
    "    vc_traces = []\n",
    "    for idx in sweep_indices:\n",
    "        for (t, cmd, rsp) in load_voltage_traces_for_indices(exp_dir, [idx]).values():\n",
    "            vc_traces.append((t, cmd, rsp))\n",
    "\n",
    "    # ---- Current‑clamp traces  {current_pA: (t,cmd,rsp)}\n",
    "    cc_nested = {}\n",
    "    cc_all = load_current_traces(exp_dir, sweep_indices)\n",
    "    for per_cell_dict in cc_all.values():           # each is {current: trace}\n",
    "        cc_nested.update(per_cell_dict)             # last duplicate wins\n",
    "\n",
    "    cells[(exp_dir, coord)] = dict(vc=vc_traces, cc=cc_nested)\n",
    "\n",
    "print(f\"Found {len(cells)} unique physical cells\")\n"
   ]
  },
  {
   "cell_type": "code",
   "execution_count": 26,
   "id": "462d1407",
   "metadata": {},
   "outputs": [
    {
     "name": "stdout",
     "output_type": "stream",
     "text": [
      "2025_06_25-12_09 (np.float64(5968.358232524412), np.float64(51480.89419805703), np.float64(20338.2)): 3 VC traces, 25 CC traces\n"
     ]
    }
   ],
   "source": [
    "# print out dictionaries for sanity check\n",
    "for (exp, coord), d in cells.items():\n",
    "    print(f\"{exp.name} {coord}: {len(d['vc'])} VC traces, {len(d['cc'])} CC traces\")\n"
   ]
  },
  {
   "cell_type": "code",
   "execution_count": null,
   "id": "bdf223ef",
   "metadata": {},
   "outputs": [
    {
     "name": "stderr",
     "output_type": "stream",
     "text": [
      "c:\\Users\\sa-forest\\.conda\\envs\\patchanalyzer\\Lib\\site-packages\\numpy\\_core\\fromnumeric.py:3596: RuntimeWarning: Mean of empty slice.\n",
      "  return _methods._mean(a, axis=axis, dtype=dtype,\n",
      "c:\\Users\\sa-forest\\.conda\\envs\\patchanalyzer\\Lib\\site-packages\\numpy\\_core\\_methods.py:138: RuntimeWarning: invalid value encountered in scalar divide\n",
      "  ret = ret.dtype.type(ret / rcount)\n"
     ]
    }
   ],
   "source": [
    "rows = []\n",
    "\n",
    "for (exp_dir, coord), data in cells.items():\n",
    "    # ------------------------------------------------------------------\n",
    "    # 1.  Voltage‑clamp passive ⟶ average across all VC sweeps\n",
    "    ra = rm = cm = None\n",
    "    if data[\"vc\"]:\n",
    "        ra_l, rm_l, cm_l = [], [], []\n",
    "        for t, cmd, rsp in data[\"vc\"]:\n",
    "            out = compute_passive_params(t, cmd, rsp)\n",
    "            if all(v is not None for v in out):\n",
    "                ra_l.append(out[0]); rm_l.append(out[1]); cm_l.append(out[2])\n",
    "        if ra_l:                                  # at least one good fit\n",
    "            ra = np.mean(ra_l); rm = np.mean(rm_l); cm = np.mean(cm_l)\n",
    "\n",
    "    # ------------------------------------------------------------------\n",
    "    # 2.  Current‑clamp passive ⟶ compute on *every* sweep then average\n",
    "    tau = rin = cap = rest = None\n",
    "    cc_dict = data[\"cc\"]                          # {current_pA: (t,cmd,rsp)}\n",
    "    if cc_dict:\n",
    "        tau_l, rin_l, cap_l, rest_l = [], [], [], []\n",
    "        for t, cmd, rsp in cc_dict.values():\n",
    "            pas = compute_cc_passive_params(t, cmd, rsp)\n",
    "            if pas[\"membrane_tau_ms\"] is not None:\n",
    "                tau_l .append(pas[\"membrane_tau_ms\"])\n",
    "                rin_l .append(pas[\"input_resistance_MOhm\"])\n",
    "                cap_l .append(pas[\"membrane_capacitance_pF\"])\n",
    "                rest_l.append(pas[\"resting_potential_mV\"])\n",
    "        if tau_l:                                 # at least one good fit\n",
    "            tau  = np.mean(tau_l)\n",
    "            rin  = np.mean(rin_l)\n",
    "            cap  = np.mean(cap_l)\n",
    "            rest = np.mean(rest_l)\n",
    "\n",
    "    # ------------------------------------------------------------------\n",
    "    rows.append(dict(\n",
    "        exp              = exp_dir.name,\n",
    "        stage_x          = coord[0],\n",
    "        stage_y          = coord[1],\n",
    "        stage_z          = coord[2],\n",
    "        Ra_MOhm          = ra,\n",
    "        Rm_MOhm          = rm,\n",
    "        Cm_pF            = cm,\n",
    "        Rin_MOhm         = rin,\n",
    "        tau_ms           = tau,\n",
    "        Cm_CC_pF         = cap,\n",
    "        Rest_mV          = rest,\n",
    "    ))\n",
    "\n",
    "df = (pd.DataFrame(rows)\n",
    "        .sort_values([\"exp\", \"stage_x\", \"stage_y\", \"stage_z\"])\n",
    "        .reset_index(drop=True))\n",
    "\n",
    "df.head()\n",
    "\n",
    "\n"
   ]
  },
  {
   "cell_type": "code",
   "execution_count": null,
   "id": "4eb1386b",
   "metadata": {},
   "outputs": [],
   "source": [
    "def plot_cell(exp_name, cell_id, clamp=\"VC\"):\n",
    "    rec = [k for k in cells if k[0].name == exp_name and k[1] == cell_id][0]\n",
    "    data = cells[rec]\n",
    "\n",
    "    if clamp == \"VC\":\n",
    "        for t, cmd, rsp in data[\"vc\"]:\n",
    "            fig, (ax1, ax2) = plt.subplots(2, 1, sharex=True)\n",
    "            ax1.plot(t, cmd);  ax1.set_ylabel(\"Cmd (mV)\")\n",
    "            ax2.plot(t, rsp);  ax2.set_ylabel(\"Rsp (pA)\")\n",
    "            ax2.set_xlabel(\"Time (s)\")\n",
    "            fig.suptitle(f\"{exp_name} – Cell {cell_id}  (VC)\")\n",
    "            plt.show()\n",
    "    else:\n",
    "        for I, (t, cmd, rsp) in sorted(data[\"cc\"].items()):\n",
    "            fig, (ax1, ax2) = plt.subplots(2, 1, sharex=True)\n",
    "            ax1.plot(t, cmd);  ax1.set_ylabel(\"Cmd (pA)\")\n",
    "            ax2.plot(t, rsp);  ax2.set_ylabel(\"Rsp (mV)\")\n",
    "            ax2.set_xlabel(\"Time (s)\")\n",
    "            fig.suptitle(f\"{exp_name} – Cell {cell_id}  (CC {I:+.0f} pA)\")\n",
    "            plt.show()\n",
    "\n",
    "# --- widgets ---\n",
    "exp_w  = W.Dropdown(options=sorted({e.name for e, _ in cells}), description=\"Exp\")\n",
    "cell_w = W.IntText(value=1, description=\"Cell idx\")\n",
    "clamp_w= W.ToggleButtons(options=[\"VC\", \"CC\"], description=\"Clamp\")\n",
    "ui = W.HBox([exp_w, cell_w, clamp_w])\n",
    "\n",
    "out = W.interactive_output(plot_cell, {\"exp_name\": exp_w, \"cell_id\": cell_w, \"clamp\": clamp_w})\n",
    "display(ui, out)\n"
   ]
  },
  {
   "cell_type": "code",
   "execution_count": null,
   "id": "d9596f7f",
   "metadata": {},
   "outputs": [],
   "source": [
    "fi_rows = []; spk_rows = []\n",
    "for (exp, idx), data in cells.items():\n",
    "    sweeps = []\n",
    "    for I, (t, cmd, rsp) in data[\"cc\"].items():\n",
    "        sweeps.append(Sweep(time=t, command=cmd, response=rsp, sample_rate=1/(t[1]-t[0])))\n",
    "\n",
    "    if not sweeps:\n",
    "        continue\n",
    "\n",
    "    fi = calc_firing_curve(sweeps)           # DataFrame\n",
    "    fi[\"exp\"] = exp.name; fi[\"cell_idx\"] = idx\n",
    "    fi_rows.append(fi)\n",
    "\n",
    "    spk = calc_spike_metrics(sweeps)         # DataFrame\n",
    "    spk[\"exp\"] = exp.name; spk[\"cell_idx\"] = idx\n",
    "    spk_rows.append(spk)\n",
    "\n",
    "fi_df   = pd.concat(fi_rows, ignore_index=True) if fi_rows else pd.DataFrame()\n",
    "spk_df  = pd.concat(spk_rows, ignore_index=True) if spk_rows else pd.DataFrame()\n",
    "\n",
    "fi_df.head(), spk_df.head()\n"
   ]
  }
 ],
 "metadata": {
  "kernelspec": {
   "display_name": "patchanalyzer",
   "language": "python",
   "name": "python3"
  },
  "language_info": {
   "codemirror_mode": {
    "name": "ipython",
    "version": 3
   },
   "file_extension": ".py",
   "mimetype": "text/x-python",
   "name": "python",
   "nbconvert_exporter": "python",
   "pygments_lexer": "ipython3",
   "version": "3.11.9"
  }
 },
 "nbformat": 4,
 "nbformat_minor": 5
}
