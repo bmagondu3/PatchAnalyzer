{
  "cells": [
    {
      "cell_type": "markdown",
      "id": "9d427fd4",
      "metadata": {},
      "source": [
        "\n",
        "# ABF — Simple Peak Workflow\n",
        "\n",
        "**What this does (in order):**\n",
        "\n",
        "1. Load a `.abf` file and choose a sweep.  \n",
        "2. Pick a **baseline time window** and subtract its mean.  \n",
        "3. Apply an **8‑pole Bessel low‑pass filter** (adjustable cutoff).  \n",
        "4. Run a **threshold-based detector** (positive or negative going).  \n",
        "5. Pull **snippets** around each detected peak (pre/post ms).  \n",
        "\n",
        "**And it shows a separate plot at each step.**\n",
        "\n",
        "> Minimal controls, minimal code. No exports or extras—just the essentials.\n"
      ]
    },
    {
      "cell_type": "code",
      "execution_count": 1,
      "id": "82c7f50c",
      "metadata": {},
      "outputs": [],
      "source": [
        "import pyabf  # noqa: F401\n",
        "import ipywidgets as widgets\n",
        "from scipy import signal \n",
        "import numpy as np\n",
        "import matplotlib.pyplot as plt \n",
        "import io, os, tempfile\n",
        "import pyabf\n",
        "import ipywidgets as widgets\n",
        "from sklearn.decomposition import PCA\n",
        "from sklearn.mixture import GaussianMixture\n",
        "from IPython.display import display, clear_output, Markdown\n",
        "plt.rcParams['figure.figsize'] = (10, 4)"
      ]
    },
    {
      "cell_type": "code",
      "execution_count": 2,
      "id": "c3fe36f2",
      "metadata": {},
      "outputs": [],
      "source": [
        "\n",
        "def bessel_lowpass(y, fs, cutoff_hz, order=8):\n",
        "    nyq = 0.5 * fs\n",
        "    if cutoff_hz <= 0:\n",
        "        return y\n",
        "    if cutoff_hz >= nyq:\n",
        "        cutoff_hz = nyq * 0.999\n",
        "    b, a = signal.bessel(order, cutoff_hz/nyq, btype='low', norm='phase')\n",
        "    return signal.filtfilt(b, a, y)\n",
        "\n",
        "def bessel_lowpass_clampfit(y, fs, cutoff_hz, order=8, initial='zero'):\n",
        "    \"\"\"\n",
        "    Clampfit-like 8-pole Bessel low-pass:\n",
        "      - magnitude-normalized cutoff (–3 dB) at 'cutoff_hz' for a single pass\n",
        "      - causal (single-pass) IIR, so it introduces phase delay (like Clampfit)\n",
        "    Params\n",
        "    ------\n",
        "    y : 1D array\n",
        "    fs : sampling rate (Hz)\n",
        "    cutoff_hz : cutoff in Hz (–3 dB, single pass)\n",
        "    order : 8 by default (Clampfit uses 8-pole IIR)\n",
        "    initial : 'zero' (Clampfit-like startup transient) or 'steady' (reduced transient)\n",
        "    \"\"\"\n",
        "    # Safety: keep cutoff below Nyquist\n",
        "    cutoff_hz = float(min(cutoff_hz, 0.49*fs))\n",
        "\n",
        "    # Design as Hz (preferred), fall back to normalized Wn if SciPy is older\n",
        "    try:\n",
        "        sos = signal.bessel(order, cutoff_hz, btype='low', analog=False,\n",
        "                            output='sos', norm='mag', fs=fs)\n",
        "    except TypeError:\n",
        "        Wn = cutoff_hz / (fs/2.0)\n",
        "        sos = signal.bessel(order, Wn, btype='low', analog=False,\n",
        "                            output='sos', norm='mag')\n",
        "\n",
        "    if initial == 'steady':\n",
        "        # Optional: reduce startup transient by initializing state to steady value\n",
        "        zi = signal.sosfilt_zi(sos)\n",
        "        y_f, _ = signal.sosfilt(sos, y, zi=zi*y[0])\n",
        "        return y_f\n",
        "    else:\n",
        "        # Clampfit describes IIR startup transients; this mirrors that behavior\n",
        "        return signal.sosfilt(sos, y)\n",
        "\n",
        "def detect_peaks_threshold(y, threshold, fs, polarity='positive',\n",
        "                           lookahead_ms=2.0, min_dist_ms=1.0):\n",
        "    y = np.asarray(y)\n",
        "    if polarity == 'positive':\n",
        "        xing = np.where((y[:-1] < threshold) & (y[1:] >= threshold))[0] + 1\n",
        "        pick = np.argmax\n",
        "    else:\n",
        "        xing = np.where((y[:-1] > threshold) & (y[1:] <= threshold))[0] + 1\n",
        "        pick = np.argmin\n",
        "    la = max(1, int(round(lookahead_ms*1e-3*fs)))\n",
        "    mind = max(1, int(round(min_dist_ms*1e-3*fs)))\n",
        "    peaks, last = [], -10**12\n",
        "    n = len(y)\n",
        "    for ci in xing:\n",
        "        end = min(ci+la, n)\n",
        "        if ci >= end:\n",
        "            continue\n",
        "        local = ci + int(pick(y[ci:end]))\n",
        "        if local - last >= mind:\n",
        "            peaks.append(local)\n",
        "            last = local\n",
        "    return peaks\n",
        "\n",
        "def snippets_around(y, peaks, fs, pre_ms, post_ms):\n",
        "    pre = int(round(pre_ms*1e-3*fs))\n",
        "    post = int(round(post_ms*1e-3*fs))\n",
        "    win = pre+post+1\n",
        "    out = []\n",
        "    kept = []\n",
        "    n = len(y)\n",
        "    for p in peaks:\n",
        "        s0, s1 = p-pre, p+post+1\n",
        "        if s0 < 0 or s1 > n:\n",
        "            continue  # keep simple: drop edge events\n",
        "        out.append(y[s0:s1])\n",
        "        kept.append(p)\n",
        "    return (np.vstack(out) if out else np.empty((0, win))), kept, pre, post\n",
        "\n",
        "# --- PCA & GMM helper functions ---\n",
        "\n",
        "def compute_pca(spks: np.ndarray, n_components: int = 3):\n",
        "    \"\"\"Return PCA scores for each spike (rows are spikes).\n",
        "    spks shape: (n_spikes, n_samples) -> scores shape: (n_spikes, n_components)\n",
        "    \"\"\"\n",
        "    if spks.ndim != 2:\n",
        "        raise ValueError(\"spks must be 2D: (n_spikes, n_samples)\")\n",
        "    pca = PCA(n_components=n_components, random_state=0)\n",
        "    scores = pca.fit_transform(spks)\n",
        "    return scores, pca\n",
        "\n",
        "\n",
        "def _relabel_left_to_right(scores: np.ndarray, labels: np.ndarray) -> np.ndarray:\n",
        "    \"\"\"Swap labels so cluster 0 is the 'left' cluster along PC1.\n",
        "    Mirrors the MATLAB snippet that swaps by max PC1.\"\"\"\n",
        "    if labels.size == 0:\n",
        "        return labels\n",
        "    max0 = np.max(scores[labels == 0, 0]) if np.any(labels == 0) else -np.inf\n",
        "    max1 = np.max(scores[labels == 1, 0]) if np.any(labels == 1) else -np.inf\n",
        "    if max0 > max1:\n",
        "        labels = 1 - labels\n",
        "    return labels\n",
        "\n",
        "\n",
        "def fit_gmm_on_pcs(scores: np.ndarray, n_components: int = 2):\n",
        "    \"\"\"Fit a GMM on the first 3 PCs and return (model, labels).\n",
        "    Uses covariance_type='diag' (closest to MATLAB 'diagonal';\n",
        "    scikit-learn does not provide 'diagonal' + shared ('tied') simultaneously).\n",
        "    \"\"\"\n",
        "    if scores.shape[1] < 3:\n",
        "        raise ValueError(\"scores must have at least 3 columns (PCs)\")\n",
        "    gm = GaussianMixture(\n",
        "        n_components=n_components,\n",
        "        covariance_type='diag',  # diagonal covariances\n",
        "        init_params='kmeans',    # MATLAB 'Start','plus' ~ k-means++ / kmeans init\n",
        "        random_state=0\n",
        "    )\n",
        "    gm.fit(scores[:, :3])\n",
        "    labels = gm.predict(scores[:, :3])\n",
        "    labels = _relabel_left_to_right(scores, labels)\n",
        "    return gm, labels\n",
        "\n",
        "\n"
      ]
    },
    {
      "cell_type": "code",
      "execution_count": 3,
      "id": "e48e31ed",
      "metadata": {},
      "outputs": [
        {
          "data": {
            "text/markdown": [
              "### Load file"
            ],
            "text/plain": [
              "<IPython.core.display.Markdown object>"
            ]
          },
          "metadata": {},
          "output_type": "display_data"
        },
        {
          "data": {
            "application/vnd.jupyter.widget-view+json": {
              "model_id": "8f52ac96dbd5460bb077e13673b6f9eb",
              "version_major": 2,
              "version_minor": 0
            },
            "text/plain": [
              "HBox(children=(FileUpload(value=(), accept='.abf', description='Upload'), Button(button_style='primary', descr…"
            ]
          },
          "metadata": {},
          "output_type": "display_data"
        },
        {
          "data": {
            "application/vnd.jupyter.widget-view+json": {
              "model_id": "a991c17fb03a4a9ba87e5c9817af1659",
              "version_major": 2,
              "version_minor": 0
            },
            "text/plain": [
              "Output()"
            ]
          },
          "metadata": {},
          "output_type": "display_data"
        },
        {
          "data": {
            "text/markdown": [
              "### Controls"
            ],
            "text/plain": [
              "<IPython.core.display.Markdown object>"
            ]
          },
          "metadata": {},
          "output_type": "display_data"
        },
        {
          "data": {
            "application/vnd.jupyter.widget-view+json": {
              "model_id": "78f342d879bd4684b46c5d9b1ba1b41c",
              "version_major": 2,
              "version_minor": 0
            },
            "text/plain": [
              "HBox(children=(IntSlider(value=0, continuous_update=False, description='Sweep', disabled=True, max=0), FloatRa…"
            ]
          },
          "metadata": {},
          "output_type": "display_data"
        },
        {
          "data": {
            "application/vnd.jupyter.widget-view+json": {
              "model_id": "a19d876e3e27400a895f8b027e94c566",
              "version_major": 2,
              "version_minor": 0
            },
            "text/plain": [
              "HBox(children=(FloatSlider(value=200.0, continuous_update=False, description='LPF cutoff (Hz)', disabled=True,…"
            ]
          },
          "metadata": {},
          "output_type": "display_data"
        },
        {
          "data": {
            "application/vnd.jupyter.widget-view+json": {
              "model_id": "1c485b83b00c439ca4bf7c2c01957778",
              "version_major": 2,
              "version_minor": 0
            },
            "text/plain": [
              "HBox(children=(FloatSlider(value=5.0, continuous_update=False, description='Pre (ms)', disabled=True, max=200.…"
            ]
          },
          "metadata": {},
          "output_type": "display_data"
        },
        {
          "data": {
            "text/markdown": [
              "### Step 1: Raw trace"
            ],
            "text/plain": [
              "<IPython.core.display.Markdown object>"
            ]
          },
          "metadata": {},
          "output_type": "display_data"
        },
        {
          "data": {
            "application/vnd.jupyter.widget-view+json": {
              "model_id": "7fbf201cd6db479babc9e857cd349e78",
              "version_major": 2,
              "version_minor": 0
            },
            "text/plain": [
              "Output()"
            ]
          },
          "metadata": {},
          "output_type": "display_data"
        },
        {
          "data": {
            "text/markdown": [
              "### Step 2: After baseline subtraction"
            ],
            "text/plain": [
              "<IPython.core.display.Markdown object>"
            ]
          },
          "metadata": {},
          "output_type": "display_data"
        },
        {
          "data": {
            "application/vnd.jupyter.widget-view+json": {
              "model_id": "ac88544b65cd4d39b38c5e2b3af13bb4",
              "version_major": 2,
              "version_minor": 0
            },
            "text/plain": [
              "Output()"
            ]
          },
          "metadata": {},
          "output_type": "display_data"
        },
        {
          "data": {
            "text/markdown": [
              "### Step 3: After 8‑pole Bessel low‑pass"
            ],
            "text/plain": [
              "<IPython.core.display.Markdown object>"
            ]
          },
          "metadata": {},
          "output_type": "display_data"
        },
        {
          "data": {
            "application/vnd.jupyter.widget-view+json": {
              "model_id": "21b56d7befb540f3a7eb10c067e6d2f4",
              "version_major": 2,
              "version_minor": 0
            },
            "text/plain": [
              "Output()"
            ]
          },
          "metadata": {},
          "output_type": "display_data"
        },
        {
          "data": {
            "text/markdown": [
              "### Step 4: Detected peaks (on filtered signal)"
            ],
            "text/plain": [
              "<IPython.core.display.Markdown object>"
            ]
          },
          "metadata": {},
          "output_type": "display_data"
        },
        {
          "data": {
            "application/vnd.jupyter.widget-view+json": {
              "model_id": "60e2f620cd47468cb200a2e05565c485",
              "version_major": 2,
              "version_minor": 0
            },
            "text/plain": [
              "Output()"
            ]
          },
          "metadata": {},
          "output_type": "display_data"
        },
        {
          "data": {
            "text/markdown": [
              "### Step 5: Snippets overlay"
            ],
            "text/plain": [
              "<IPython.core.display.Markdown object>"
            ]
          },
          "metadata": {},
          "output_type": "display_data"
        },
        {
          "data": {
            "application/vnd.jupyter.widget-view+json": {
              "model_id": "59eaeaea4a934b47b4dc8102f722a50e",
              "version_major": 2,
              "version_minor": 0
            },
            "text/plain": [
              "Output()"
            ]
          },
          "metadata": {},
          "output_type": "display_data"
        },
        {
          "data": {
            "application/vnd.jupyter.widget-view+json": {
              "model_id": "a9fc186eed9f467d9be477036c3bae3d",
              "version_major": 2,
              "version_minor": 0
            },
            "text/plain": [
              "Output()"
            ]
          },
          "metadata": {},
          "output_type": "display_data"
        },
        {
          "data": {
            "text/markdown": [
              "### Step 6: PCA (scores: PC1 vs PC2)"
            ],
            "text/plain": [
              "<IPython.core.display.Markdown object>"
            ]
          },
          "metadata": {},
          "output_type": "display_data"
        },
        {
          "data": {
            "application/vnd.jupyter.widget-view+json": {
              "model_id": "c735ebab2b5d4f78aeeaf5d8d0fa38c9",
              "version_major": 2,
              "version_minor": 0
            },
            "text/plain": [
              "Output()"
            ]
          },
          "metadata": {},
          "output_type": "display_data"
        },
        {
          "data": {
            "text/markdown": [
              "### Step 7: PCA colored by 2‑component GMM"
            ],
            "text/plain": [
              "<IPython.core.display.Markdown object>"
            ]
          },
          "metadata": {},
          "output_type": "display_data"
        },
        {
          "data": {
            "application/vnd.jupyter.widget-view+json": {
              "model_id": "eec38051cd5647d1a83dfb43a0edaa14",
              "version_major": 2,
              "version_minor": 0
            },
            "text/plain": [
              "Output()"
            ]
          },
          "metadata": {},
          "output_type": "display_data"
        },
        {
          "data": {
            "text/markdown": [
              "### Step 8: Snippets separated by GMM cluster"
            ],
            "text/plain": [
              "<IPython.core.display.Markdown object>"
            ]
          },
          "metadata": {},
          "output_type": "display_data"
        },
        {
          "data": {
            "application/vnd.jupyter.widget-view+json": {
              "model_id": "30d0bd56a0884e94b2208429b979dbcd",
              "version_major": 2,
              "version_minor": 0
            },
            "text/plain": [
              "Output()"
            ]
          },
          "metadata": {},
          "output_type": "display_data"
        }
      ],
      "source": [
        "# UI controls\n",
        "upload = widgets.FileUpload(accept='.abf', multiple=False)\n",
        "load_btn = widgets.Button(description='Load ABF', button_style='primary')\n",
        "\n",
        "sweep = widgets.IntSlider(description='Sweep', min=0, max=0, step=1, value=0, disabled=True, continuous_update=False)\n",
        "baseline = widgets.FloatRangeSlider(description='Baseline (s)', min=0.0, max=1.0, step=0.001, value=(0.0, 0.05),\n",
        "                                    readout_format='.3f', disabled=True, continuous_update=False)\n",
        "cutoff = widgets.FloatSlider(description='LPF cutoff (Hz)', min=1.0, max=5000.0, step=1.0, value=200.0,\n",
        "                             disabled=True, continuous_update=False)\n",
        "polarity = widgets.ToggleButtons(description='Polarity', options=['positive','negative'], value='positive', disabled=True)\n",
        "thr = widgets.FloatSlider(description='Threshold', min=-100.0, max=100.0, step=0.1, value=0.0,\n",
        "                          disabled=True, continuous_update=False)\n",
        "pre_ms = widgets.FloatSlider(description='Pre (ms)', min=0.0, max=200.0, step=0.5, value=5.0, disabled=True, continuous_update=False)\n",
        "post_ms = widgets.FloatSlider(description='Post (ms)', min=0.0, max=200.0, step=0.5, value=10.0, disabled=True, continuous_update=False)\n",
        "run_btn = widgets.Button(description='Run analysis', button_style='success', disabled=True)\n",
        "\n",
        "status = widgets.Output()\n",
        "out_raw = widgets.Output()\n",
        "out_base = widgets.Output()\n",
        "out_filt = widgets.Output()\n",
        "out_detect = widgets.Output()\n",
        "out_snips = widgets.Output()\n",
        "out_info = widgets.Output()\n",
        "out_pca = widgets.Output()\n",
        "out_gmm = widgets.Output()\n",
        "out_clustered = widgets.Output()\n",
        "\n",
        "\n",
        "display(Markdown(\"### Load file\"), widgets.HBox([upload, load_btn]), status)\n",
        "display(Markdown(\"### Controls\"), widgets.HBox([sweep, baseline]),\n",
        "        widgets.HBox([cutoff, polarity, thr]), widgets.HBox([pre_ms, post_ms, run_btn]))\n",
        "display(Markdown(\"### Step 1: Raw trace\"), out_raw)\n",
        "display(Markdown(\"### Step 2: After baseline subtraction\"), out_base)\n",
        "display(Markdown(\"### Step 3: After 8‑pole Bessel low‑pass\"), out_filt)\n",
        "display(Markdown(\"### Step 4: Detected peaks (on filtered signal)\"), out_detect)\n",
        "display(Markdown(\"### Step 5: Snippets overlay\"), out_snips, out_info)\n",
        "display(Markdown(\"### Step 6: PCA (scores: PC1 vs PC2)\"), out_pca)\n",
        "display(Markdown(\"### Step 7: PCA colored by 2‑component GMM\"), out_gmm)\n",
        "display(Markdown(\"### Step 8: Snippets separated by GMM cluster\"), out_clustered)\n",
        "\n",
        "\n",
        "state = {'abf': None, 'fs': None, 'xlab': 'time (s)', 'ylab': 'amplitude'}\n",
        "\n",
        "def _get_sweep():\n",
        "    abf = state['abf']\n",
        "    abf.setSweep(int(sweep.value))\n",
        "    return abf.sweepX.copy(), abf.sweepY.copy()\n",
        "\n",
        "def _plot_raw():\n",
        "    if state['abf'] is None: return\n",
        "    t, y = _get_sweep()\n",
        "    with out_raw:\n",
        "        clear_output(wait=True)\n",
        "        plt.figure()\n",
        "        plt.plot(t, y)\n",
        "        plt.xlabel(state['xlab']); plt.ylabel(state['ylab']); plt.title(f\"Sweep {sweep.value} — Raw\")\n",
        "        plt.show()\n",
        "\n",
        "def _update_thr_range(yF):\n",
        "    ymin, ymax = float(np.min(yF)), float(np.max(yF))\n",
        "    pad = 0.05*(ymax-ymin+1e-12)\n",
        "    thr.min = ymin - pad\n",
        "    thr.max = ymax + pad\n",
        "    thr.step = (thr.max-thr.min)/500.0\n",
        "    thr.value = 0.0\n",
        "    thr.disabled = False\n",
        "    polarity.disabled = False\n",
        "\n",
        "def _run(_b=None):\n",
        "    if state['abf'] is None: return\n",
        "    fs = state['fs']\n",
        "    t, y = _get_sweep()\n",
        "\n",
        "    # Baseline\n",
        "    t0, t1 = baseline.value\n",
        "    mask = (t>=t0) & (t<=t1)\n",
        "    base = float(np.mean(y[mask])) if np.any(mask) else 0.0\n",
        "    y0 = y - base\n",
        "    with out_base:\n",
        "        clear_output(wait=True)\n",
        "        plt.figure()\n",
        "        plt.plot(t, y0)\n",
        "        plt.xlabel(state['xlab']); plt.ylabel(state['ylab'])\n",
        "        plt.title(f\"Baseline-subtracted (mean over [{t0:.3f}, {t1:.3f}] s = {base:.3g})\")\n",
        "        plt.show()\n",
        "\n",
        "    # Filter\n",
        "    # yF = bessel_lowpass(y0, fs, cutoff.value, order=8)\n",
        "    yF = bessel_lowpass(y0, fs, cutoff.value, order=8)\n",
        "    with out_filt:\n",
        "        clear_output(wait=True)\n",
        "        plt.figure()\n",
        "        plt.plot(t, yF)\n",
        "        plt.xlabel(state['xlab']); plt.ylabel(state['ylab'])\n",
        "        plt.title(f\"8‑pole Bessel low‑pass (cutoff={cutoff.value:.1f} Hz)\")\n",
        "        plt.show()\n",
        "\n",
        "    # Detector\n",
        "    if thr.disabled:\n",
        "        _update_thr_range(yF)\n",
        "    peaks = detect_peaks_threshold(yF, thr.value, fs, polarity.value, lookahead_ms=2.0, min_dist_ms=1.0)\n",
        "    with out_detect:\n",
        "        clear_output(wait=True)\n",
        "        plt.figure()\n",
        "        plt.plot(t, yF)\n",
        "        plt.axhline(thr.value, linestyle='--')\n",
        "        if len(peaks):\n",
        "            plt.scatter(t[peaks], yF[peaks], s=20, marker='o')\n",
        "        plt.xlabel(state['xlab']); plt.ylabel(state['ylab'])\n",
        "        plt.title(f\"Threshold detections: {len(peaks)} ({polarity.value}-going)\")\n",
        "        plt.show()\n",
        "\n",
        "    # Snippets\n",
        "    snips, kept, pre, post = snippets_around(yF, peaks, fs, pre_ms.value, post_ms.value)\n",
        "    snip_t = np.arange(-pre, post+1)/fs\n",
        "    with out_snips:\n",
        "        clear_output(wait=True)\n",
        "        plt.figure()\n",
        "        if snips.size:\n",
        "            for row in snips:\n",
        "                plt.plot(snip_t, row)\n",
        "            plt.axvline(0.0, linestyle='--')\n",
        "            plt.xlabel('Time around peak (s)'); plt.ylabel(state['ylab'])\n",
        "            plt.title(f\"Snippets: {snips.shape[0]} × {snips.shape[1]} samples\")\n",
        "        else:\n",
        "            plt.title(\"No snippets (adjust threshold or windows)\")\n",
        "            plt.xlabel('Time (s)'); plt.ylabel(state['ylab'])\n",
        "        plt.show()\n",
        "    # --- Step 6–8: PCA → GMM → waveform clusters ---\n",
        "    # Only proceed if we have snippets\n",
        "    with out_pca:\n",
        "        clear_output(wait=True)\n",
        "        if snips.size:\n",
        "            pcs, _pca = compute_pca(snips, n_components=3)\n",
        "            plt.figure()\n",
        "            plt.scatter(pcs[:, 0], pcs[:, 1], s=6, c='k')\n",
        "            plt.xlabel('PC1'); plt.ylabel('PC2')\n",
        "            plt.title('PCA (scores)')\n",
        "            plt.show()\n",
        "        else:\n",
        "            print(\"No snippets available for PCA/GMM.\")\n",
        "\n",
        "    with out_gmm:\n",
        "        clear_output(wait=True)\n",
        "        if snips.size:\n",
        "            _gm, idx = fit_gmm_on_pcs(pcs, n_components=2)\n",
        "            plt.figure()\n",
        "            plt.scatter(pcs[idx == 0, 0], pcs[idx == 0, 1], s=6, c='b', label='Cluster 1')\n",
        "            plt.scatter(pcs[idx == 1, 0], pcs[idx == 1, 1], s=6, c='r', label='Cluster 2')\n",
        "            plt.xlabel('PC1'); plt.ylabel('PC2')\n",
        "            plt.title('GMM clusters on PCA')\n",
        "            plt.legend(loc='best')\n",
        "            plt.show()\n",
        "        else:\n",
        "            print(\"No GMM because there are no snippets.\")\n",
        "\n",
        "    with out_clustered:\n",
        "        clear_output(wait=True)\n",
        "        if snips.size:\n",
        "            plt.figure()\n",
        "            if np.any(idx == 0):\n",
        "                plt.plot(snip_t, snips[idx == 0].T, 'b', linewidth=0.5)\n",
        "            if np.any(idx == 1):\n",
        "                plt.plot(snip_t, snips[idx == 1].T, 'r', linewidth=0.5)\n",
        "            plt.axvline(0.0, linestyle='--')\n",
        "            plt.xlabel('Time around peak (s)')\n",
        "            plt.ylabel(state['ylab'])\n",
        "            plt.title('Snippets by GMM cluster')\n",
        "            plt.show()\n",
        "        else:\n",
        "            print(\"No snippets to plot by cluster.\")\n",
        " \n",
        "    with out_info:\n",
        "        clear_output(wait=True)\n",
        "        print(f\"Peaks kept: {len(kept)} | Pre={pre_ms.value} ms, Post={post_ms.value} ms\")\n",
        "\n",
        "def _get_upload_name_and_bytes(upload):\n",
        "    \"\"\"\n",
        "    Return (name, bytes) from a FileUpload widget, supporting ipywidgets 7 & 8.\n",
        "    Returns (None, None) if nothing is uploaded.\n",
        "    \"\"\"\n",
        "    v = getattr(upload, \"value\", None)\n",
        "    if v is None:\n",
        "        return None, None\n",
        "\n",
        "    # ipywidgets 7.x: dict {filename: { 'content': bytes, ...}, ...}\n",
        "    if isinstance(v, dict):\n",
        "        if not v:\n",
        "            return None, None\n",
        "        name, info = next(iter(v.items()))\n",
        "        return name, info.get(\"content\", None)\n",
        "\n",
        "    # ipywidgets 8.x: tuple/list of files\n",
        "    if isinstance(v, (tuple, list)):\n",
        "        if len(v) == 0:\n",
        "            return None, None\n",
        "        f0 = v[0]\n",
        "        # Could be a dict or an UploadedFile object\n",
        "        if isinstance(f0, dict):\n",
        "            return f0.get(\"name\", \"uploaded\"), f0.get(\"content\", None)\n",
        "        # Fallback: object with attributes\n",
        "        name = getattr(f0, \"name\", \"uploaded\")\n",
        "        content = getattr(f0, \"content\", None)\n",
        "        return name, content\n",
        "\n",
        "    return None, None\n",
        "\n",
        "\n",
        "def _load_clicked(_b):\n",
        "    with status:\n",
        "        clear_output()\n",
        "        print(\"Loading...\")\n",
        "\n",
        "    name, raw = _get_upload_name_and_bytes(upload)\n",
        "    if not name or raw is None:\n",
        "        with status:\n",
        "            clear_output()\n",
        "            print(\"No file data found. Make sure a file appears in the widget before clicking Load.\")\n",
        "        return\n",
        "\n",
        "    # Optional: reset the widget so selecting the same file again will retrigger\n",
        "    try:\n",
        "        upload.value = () if isinstance(upload.value, tuple) else {}\n",
        "    except Exception:\n",
        "        pass\n",
        "\n",
        "    tmp = tempfile.mkdtemp(prefix='abf_')\n",
        "    path = os.path.join(tmp, name)\n",
        "    with open(path, 'wb') as f:\n",
        "        f.write(raw)\n",
        "\n",
        "    try:\n",
        "        abf = pyabf.ABF(path)\n",
        "    except Exception as e:\n",
        "        with status:\n",
        "            clear_output()\n",
        "            print(\"Failed:\", e)\n",
        "        return\n",
        "\n",
        "    state['abf'] = abf\n",
        "    state['fs'] = float(abf.dataRate)\n",
        "    state['xlab'] = getattr(abf, 'sweepLabelX', 'time (s)')\n",
        "    state['ylab'] = getattr(abf, 'sweepLabelY', 'amplitude')\n",
        "\n",
        "    sweep.max = abf.sweepCount - 1\n",
        "    sweep.disabled = False\n",
        "\n",
        "    # Init baseline slider from sweep 0\n",
        "    abf.setSweep(0)\n",
        "    t = abf.sweepX\n",
        "    baseline.min = float(t[0])\n",
        "    baseline.max = float(t[-1])\n",
        "    span = max(0.05*(t[-1]-t[0]), 0.05)\n",
        "    baseline.value = (float(t[0]), float(min(t[0]+span, t[-1])))\n",
        "    baseline.disabled = False\n",
        "\n",
        "    cutoff.max = max(10.0, min(10000.0, 0.45*state['fs']))\n",
        "    cutoff.value = min(200.0, cutoff.max)\n",
        "    cutoff.disabled = False\n",
        "\n",
        "    polarity.disabled = True\n",
        "    thr.disabled = True\n",
        "    pre_ms.disabled = False\n",
        "    post_ms.disabled = False\n",
        "    run_btn.disabled = False\n",
        "\n",
        "    with status:\n",
        "        clear_output()\n",
        "        print(f\"Loaded {name}: sweeps={abf.sweepCount}, fs={abf.dataRate} Hz, duration={abf.sweepLengthSec:.3f} s\")\n",
        "\n",
        "    _plot_raw()\n",
        "\n",
        "load_btn.on_click(_load_clicked)\n",
        "sweep.observe(lambda ch: _plot_raw(), names='value')\n",
        "run_btn.on_click(_run)\n",
        "\n"
      ]
    }
  ],
  "metadata": {
    "kernelspec": {
      "display_name": "patchanalyzer",
      "language": "python",
      "name": "python3"
    },
    "language_info": {
      "codemirror_mode": {
        "name": "ipython",
        "version": 3
      },
      "file_extension": ".py",
      "mimetype": "text/x-python",
      "name": "python",
      "nbconvert_exporter": "python",
      "pygments_lexer": "ipython3",
      "version": "3.11.9"
    }
  },
  "nbformat": 4,
  "nbformat_minor": 5
}
